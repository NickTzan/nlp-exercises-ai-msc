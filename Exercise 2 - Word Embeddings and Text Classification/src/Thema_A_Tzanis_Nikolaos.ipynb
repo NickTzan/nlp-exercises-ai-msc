{
 "cells": [
  {
   "attachments": {},
   "cell_type": "markdown",
   "id": "3d8fcafb",
   "metadata": {},
   "source": [
    "# Ερώτημα A: Tokens, Types, Zipf's Law\n",
    "Σε αυτό το κομμάτι θα χρησιμοποιήσουμε ένα αρχείο με κείμενα από το Wall Street Journal με σκοπό να εξάγουμε ορισμένα δεδομένα σχετικά με το σύνολο των tokens, τα είδη τους και ορισμένα metrics σχετικά με το νόμο του Zipf.\n",
    "Για το tokenization, αλλά και την εξερεύνηση διάφορων metrics έχω δημιουργήσει ορισμένα functions τα οποία είναι δυνατό να τροποποιηθούν ανάλογα με τη μέθοδο που θα χρησιμοποιήσουμε για το tokenization.\n",
    "Σύμφωνα με την εκφώνηση, θα πρέπει να εξερευνηθούν τεχνικές tokenization από τις βιβλιοθήκες **nltk**, **spaCy** και **BertTokenizer**."
   ]
  },
  {
   "attachments": {},
   "cell_type": "markdown",
   "id": "6c6ed9e1",
   "metadata": {},
   "source": [
    "### Ορισμένα Βοηθητικά Functions\n",
    "Τα ακόλουθα functions εκτελούν όλες τις λειτουργίες που θέλουμε για τις απαντήσεις των ερωτημάτων που ζητά η εκφώνηση. Ακολουθούν περαιτέρω σχόλια σε κάθε συνάρτηση ξεχωριστά."
   ]
  },
  {
   "attachments": {},
   "cell_type": "markdown",
   "id": "d18296f9",
   "metadata": {},
   "source": [
    "#### Libraries\n",
    "Οι βιβλιοθήκες που χρησιμοποιούνται στα βοηθητικά functions είναι οι:\n",
    "1. Numpy, για ορισμένους αριθμητικούς υπολογισμούς\n",
    "2. Pandas, για την καλύτερη εξερεύνηση των tokens και των συχνοτήτων τους\n",
    "3. Matplotlib.pyplot, για απεικονίσεις και γραφήματα"
   ]
  },
  {
   "cell_type": "code",
   "execution_count": 1,
   "id": "8c76608b",
   "metadata": {},
   "outputs": [],
   "source": [
    "import pandas as pd\n",
    "import numpy as np\n",
    "import matplotlib.pyplot as plt"
   ]
  },
  {
   "attachments": {},
   "cell_type": "markdown",
   "id": "07018fe6",
   "metadata": {},
   "source": [
    "#### Υπολογισμός Συνολικού Αριθμού Tokens\n",
    "Η πρώτη συνάρτηση μάς επιστρέφει το συνολικό αριθμό των tokens που προκύπτει μετά το tokenization. Είναι μία σχετικά απλή συνάρτηση που χρησιμοποιεί την εντολή len."
   ]
  },
  {
   "cell_type": "code",
   "execution_count": 2,
   "id": "702e8c91",
   "metadata": {},
   "outputs": [],
   "source": [
    "def total_tokens(list):\n",
    "    return len(list)"
   ]
  },
  {
   "attachments": {},
   "cell_type": "markdown",
   "id": "fad709f3",
   "metadata": {},
   "source": [
    "#### Δημιουργία του Pandas DataFrame\n",
    "Το ακόλουθο function παίρνει ως είσοδο τη λίστα των tokens που προκύπτει μετά το tokenization και δημιουργεί ένα DataFrame το οποίο περιέχει στην πρώτη στήλη τα tokens σε φθίνουσα σειρά συχνότητας ανάλογα με τον αριθμό των εμφανίσεών τους. Ο αριθμός των εμφανίσεων του κάθε token φαίνεται στη δεύτερη στήλη που έχει όνομα **counts**.\n",
    "Η συνάρτηση επιστρέφει το DataFrame που δημιουργείται.\n",
    "Είναι σημαντικό να σημειωθεί ότι το index κάθε token στο DataFrame ταυτίζεται με τη σειρά του ανάλογα με τον αριθμό εμφανίσεων. Δηλαδή, το 1ο σε αριθμό εμφανίσεων token έχει index 1, το 2ο 2 κλπ."
   ]
  },
  {
   "cell_type": "code",
   "execution_count": 3,
   "id": "23cceec9",
   "metadata": {},
   "outputs": [],
   "source": [
    "def create_df(list):\n",
    "    word_frequencies = {}\n",
    "    for word in list:\n",
    "        if word in word_frequencies.keys():\n",
    "            word_frequencies[word] = word_frequencies[word] + 1\n",
    "        else:\n",
    "            word_frequencies[word] = 1\n",
    "    sorted_dict = {k: v for k, v in sorted(word_frequencies.items(), key=lambda item: item[1], reverse=True)}\n",
    "    df = pd.DataFrame.from_dict(sorted_dict, orient='index', columns=['counts'])\n",
    "    df = df.reset_index()\n",
    "    df.index = np.arange(1, len(df) + 1)\n",
    "    df.columns = ['word', 'counts']\n",
    "    return df"
   ]
  },
  {
   "attachments": {},
   "cell_type": "markdown",
   "id": "35b53d10",
   "metadata": {},
   "source": [
    "#### Υπολογισμός Αριθμού Διαφορετικών Token Types\n",
    "Τα διαφορετικά token types πρακτικά ταυτίζονται με τις γραμμές του DataFrame που δημιουργεί η προηγούμενη function, επομένως εδώ το μέγεθος του DataFrame είναι ο αριθμός που μας ενδιαφέρει."
   ]
  },
  {
   "cell_type": "code",
   "execution_count": 4,
   "id": "e9907b27",
   "metadata": {},
   "outputs": [],
   "source": [
    "def token_types(df):\n",
    "    return len(df)"
   ]
  },
  {
   "attachments": {},
   "cell_type": "markdown",
   "id": "dcad5708",
   "metadata": {},
   "source": [
    "#### 20 Συχνότερα Tokens και Στήλες Probability, Position*Probability\n",
    "Το ακόλουθο function δημιουργεί αρχικά τις δύο στήλες για τη συχνότητα του κάθε token (probability) και τη στήλη με το γινόμενο πιθανότητας επί θέση (position*probability). Για την πρώτη στήλη διαιρεί τις εμφανίσεις του κάθε token με το σύνολο των tokens, ενώ για τη δεύτερη απλά πολλαπλασιάζει τη στήλη probability με το index (**Σημείωση:** Η στήλη index ξεκινάει από 1 οπότε πράγματι περιέχει τη θέση του κάθε token)."
   ]
  },
  {
   "cell_type": "code",
   "execution_count": 5,
   "id": "84171da8",
   "metadata": {},
   "outputs": [],
   "source": [
    "def print_20_most_common(df):\n",
    "    df['probability'] = df['counts']/df['counts'].sum()\n",
    "    df['position*probability'] = df.index * df['probability']\n",
    "    print(df.head(20))"
   ]
  },
  {
   "attachments": {},
   "cell_type": "markdown",
   "id": "d37d6d17",
   "metadata": {},
   "source": [
    "#### Ποσοστό των Tokens που Εμφανίζονται 1, 2 ή 3 Φορές\n",
    "Σε αυτό το function υπολογίζεται το ποσοστό των tokens που εμφανίζονται 1, 2 ή 3 φορές και ακολούθως τυπώνεται το ποσοστό που θα έπρεπε να εμφανίζονται τα tokens αυτά με βάση το νόμο του Zipf."
   ]
  },
  {
   "cell_type": "code",
   "execution_count": 6,
   "id": "81e02380",
   "metadata": {},
   "outputs": [],
   "source": [
    "def real_vs_zipf(df):\n",
    "    for i in range(1, 4):\n",
    "        count = sum(df['counts'] == i)\n",
    "        percentage = (count / len(df)) * 100\n",
    "\n",
    "        print('Percentage of words with', i, 'count: {:.2f}%'.format(percentage))\n",
    "        print('Percentage of words with', i, \"count according to Zipf's law: {:.2f}%\".format((1/(i*(i+1)))*100))"
   ]
  },
  {
   "attachments": {},
   "cell_type": "markdown",
   "id": "3d842afe",
   "metadata": {},
   "source": [
    "#### Υπολογισμός του Καλύτερου Α\n",
    "Αυτό το function υπολογίζει την καλύτερη τιμή της σταθεράς Α. Σύμφωνα με την εκφώνηση ελέγχονται οι τιμές από 0.1 μέχρι 1.0. Ο στόχος είναι να βρούμε την τιμή της σταθεράς Α που ταιριάζει καλύτερα με τα κείμενα που μας δίνονται. Η συνάρτηση αυτή ελαχιστοποιεί το τετράγωνο του error για να προσεγγίσει την καλύτερη τιμή του Α."
   ]
  },
  {
   "cell_type": "code",
   "execution_count": 7,
   "id": "5c7007c1",
   "metadata": {},
   "outputs": [],
   "source": [
    "def best_a(df):\n",
    "    test_df = df\n",
    "    best_fit = None\n",
    "    for a in [0.1, 0.2, 0.3, 0.4, 0.5, 0.6, 0.7, 0.8, 0.9, 1.0]:\n",
    "        test_df['fit'] = (test_df['position*probability'] - a)**2\n",
    "        current_fit = test_df['fit'].sum()\n",
    "        if best_fit == None:\n",
    "            best_fit = current_fit\n",
    "            best_a = a\n",
    "        elif best_fit > current_fit:\n",
    "            best_fit = current_fit\n",
    "            best_a = a\n",
    "    return best_a"
   ]
  },
  {
   "attachments": {},
   "cell_type": "markdown",
   "id": "4ecefe36",
   "metadata": {},
   "source": [
    "#### Απεικόνιση Πραγματικών Μετρήσεων έναντι Εκτιμήσεων από το Νόμο του Zipf\n",
    "Εδώ, με βάση το καλύτερο Α που υπολογίσαμε από την προηγούμενη συνάρτηση δημιουργούμε ένα διάγραμμα που στον άξονα x έχει τη θέση του token σε φθίνουσα σειρά συχνότητας και στον άξονα y τη συχνότητά του.\n",
    "Στο γράφημα υπάρχουν τόσο οι πραγματικές τιμές από τα κείμενα που εξετάσαμε όσο και οι εκτιμήσεις από το νόμο του Zipf με βάση το καλύτερο Α."
   ]
  },
  {
   "cell_type": "code",
   "execution_count": 8,
   "id": "a733daec",
   "metadata": {},
   "outputs": [],
   "source": [
    "def plot_actual_vs_zipf(df):\n",
    "    df['zipf_probability'] = 0.1 / df.index\n",
    "    plt.figure(figsize=(10,6))\n",
    "    plt.scatter(df.index, df['probability'], label='Real')\n",
    "    plt.plot(df.index, df['zipf_probability'], label=\"Zipf's Estimation\", linestyle='-', color='red')\n",
    "    plt.xscale('log')\n",
    "    plt.yscale('log')\n",
    "    plt.legend()\n",
    "    plt.show()"
   ]
  },
  {
   "attachments": {},
   "cell_type": "markdown",
   "id": "b95b02ac",
   "metadata": {},
   "source": [
    "### Διάβασμα του Αρχείου που Πρέπει να Εξετάσουμε"
   ]
  },
  {
   "cell_type": "code",
   "execution_count": 9,
   "id": "5d3f466e",
   "metadata": {},
   "outputs": [],
   "source": [
    "textfile = open('../data/wsj_untokenized.txt', 'r').read()"
   ]
  },
  {
   "attachments": {},
   "cell_type": "markdown",
   "id": "27dcce42",
   "metadata": {},
   "source": [
    "## Nltk Tokenizer"
   ]
  },
  {
   "attachments": {},
   "cell_type": "markdown",
   "id": "b1355ec6",
   "metadata": {},
   "source": [
    "Γίνονται import οι σχετικές βιβλιοθήκες με το nltk και κυρίως η συνάρτηση word_tokenize που θα χρησιμοποιηθεί για το tokenization."
   ]
  },
  {
   "cell_type": "code",
   "execution_count": 10,
   "id": "9b52a3d1",
   "metadata": {},
   "outputs": [],
   "source": [
    "import nltk\n",
    "# nltk.download()\n",
    "from nltk.tokenize import word_tokenize"
   ]
  },
  {
   "attachments": {},
   "cell_type": "markdown",
   "id": "bf380ecd",
   "metadata": {},
   "source": [
    "Η συνάρτηση word_tokenize στο αρχικό κείμενο που μάς δίνεται επιστρέφει μία λίστα με tokens."
   ]
  },
  {
   "cell_type": "code",
   "execution_count": 11,
   "id": "b86b1302",
   "metadata": {},
   "outputs": [],
   "source": [
    "tokens = word_tokenize(textfile)"
   ]
  },
  {
   "attachments": {},
   "cell_type": "markdown",
   "id": "0bc72d7a",
   "metadata": {},
   "source": [
    "Καλείται η συνάρτηση για το πλήθος των συνολικών tokens."
   ]
  },
  {
   "cell_type": "code",
   "execution_count": 12,
   "id": "46f41f68",
   "metadata": {},
   "outputs": [
    {
     "name": "stdout",
     "output_type": "stream",
     "text": [
      "The total number of tokens is: 93530\n"
     ]
    }
   ],
   "source": [
    "print('The total number of tokens is:', total_tokens(tokens))"
   ]
  },
  {
   "attachments": {},
   "cell_type": "markdown",
   "id": "a86523f4",
   "metadata": {},
   "source": [
    "Δημιουργείται το DataFrame του Pandas με την κλήση της σχετικής συνάρτησης."
   ]
  },
  {
   "cell_type": "code",
   "execution_count": 13,
   "id": "ea8e2be8",
   "metadata": {},
   "outputs": [],
   "source": [
    "nltk_df = create_df(tokens)"
   ]
  },
  {
   "attachments": {},
   "cell_type": "markdown",
   "id": "5b4cebeb",
   "metadata": {},
   "source": [
    "Καλείται η συνάρτηση για τον αριθμό των διαφορετικών tokens."
   ]
  },
  {
   "cell_type": "code",
   "execution_count": 14,
   "id": "ce12f6f0",
   "metadata": {},
   "outputs": [
    {
     "name": "stdout",
     "output_type": "stream",
     "text": [
      "The number of different tokens is: 12000\n"
     ]
    }
   ],
   "source": [
    "print('The number of different tokens is:', token_types(nltk_df))"
   ]
  },
  {
   "attachments": {},
   "cell_type": "markdown",
   "id": "19e8be3d",
   "metadata": {},
   "source": [
    "Προσθέτονται οι στήλες probability και position*probability στο DataFrame και τυπώνονται οι 20 πρώτες λέξεις σε συχνότητα."
   ]
  },
  {
   "cell_type": "code",
   "execution_count": 15,
   "id": "da7954db",
   "metadata": {},
   "outputs": [
    {
     "name": "stdout",
     "output_type": "stream",
     "text": [
      "    word  counts  probability  position*probability\n",
      "1      ,    4823     0.051566              0.051566\n",
      "2    the    4041     0.043205              0.086411\n",
      "3      .    3819     0.040832              0.122495\n",
      "4     of    2312     0.024719              0.098877\n",
      "5     to    2157     0.023062              0.115311\n",
      "6      a    1857     0.019855              0.119128\n",
      "7     in    1563     0.016711              0.116979\n",
      "8    and    1489     0.015920              0.127360\n",
      "9     ''     959     0.010253              0.092281\n",
      "10    's     863     0.009227              0.092270\n",
      "11   for     815     0.008714              0.095852\n",
      "12  that     807     0.008628              0.103539\n",
      "13   The     714     0.007634              0.099241\n",
      "14     $     708     0.007570              0.105977\n",
      "15    is     671     0.007174              0.107613\n",
      "16  said     627     0.006704              0.107260\n",
      "17    on     489     0.005228              0.088881\n",
      "18    it     475     0.005079              0.091415\n",
      "19     %     446     0.004769              0.090602\n",
      "20    by     427     0.004565              0.091308\n"
     ]
    }
   ],
   "source": [
    "print_20_most_common(nltk_df)"
   ]
  },
  {
   "attachments": {},
   "cell_type": "markdown",
   "id": "0af694d0",
   "metadata": {},
   "source": [
    "Αποτέλεσμα του word_tokenize της nltk σε μία τυχαία πρόταση."
   ]
  },
  {
   "cell_type": "code",
   "execution_count": 16,
   "id": "bdf4796e",
   "metadata": {},
   "outputs": [
    {
     "name": "stdout",
     "output_type": "stream",
     "text": [
      "['The', 'National', 'Association', 'of', 'Manufacturers', 'settled', 'on', 'the', 'Hoosier', 'capital', 'of', 'Indianapolis', 'for', 'its', 'fall', 'board', 'meeting', '.']\n"
     ]
    }
   ],
   "source": [
    "sentence = 'The National Association of Manufacturers settled on the Hoosier capital of Indianapolis for its fall board meeting.'\n",
    "tokens_sentence = word_tokenize(sentence)\n",
    "print(tokens_sentence)"
   ]
  },
  {
   "attachments": {},
   "cell_type": "markdown",
   "id": "912ca235",
   "metadata": {},
   "source": [
    "Τα αποτελέσματα τις σύγκρισης ανάμεσα στο ποσοστό των λέξεων που εμφανίζονται 1, 2 ή 3 φορές και το ποσοστό που θα περιμέναμε με βάση το νόμο του Zipf."
   ]
  },
  {
   "cell_type": "code",
   "execution_count": 17,
   "id": "0ad0b41a",
   "metadata": {},
   "outputs": [
    {
     "name": "stdout",
     "output_type": "stream",
     "text": [
      "Percentage of words with 1 count: 52.12%\n",
      "Percentage of words with 1 count according to Zipf's law: 50.00%\n",
      "Percentage of words with 2 count: 15.25%\n",
      "Percentage of words with 2 count according to Zipf's law: 16.67%\n",
      "Percentage of words with 3 count: 7.52%\n",
      "Percentage of words with 3 count according to Zipf's law: 8.33%\n"
     ]
    }
   ],
   "source": [
    "real_vs_zipf(nltk_df)"
   ]
  },
  {
   "attachments": {},
   "cell_type": "markdown",
   "id": "4f659b97",
   "metadata": {},
   "source": [
    "Καλείται η συνάρτηση για τον υπολογισμό του κατάλληλου Α."
   ]
  },
  {
   "cell_type": "code",
   "execution_count": 18,
   "id": "bcb114f8",
   "metadata": {},
   "outputs": [
    {
     "data": {
      "text/plain": [
       "0.1"
      ]
     },
     "execution_count": 18,
     "metadata": {},
     "output_type": "execute_result"
    }
   ],
   "source": [
    "best_a(nltk_df)"
   ]
  },
  {
   "attachments": {},
   "cell_type": "markdown",
   "id": "d4aa3001",
   "metadata": {},
   "source": [
    "Και βάσει του παραπάνω αποτελέσματος δημιουργούμε και το plot."
   ]
  },
  {
   "cell_type": "code",
   "execution_count": 19,
   "id": "0b184b81",
   "metadata": {},
   "outputs": [
    {
     "data": {
      "image/png": "[encoded data removed]",
      "text/plain": [
       "<Figure size 720x432 with 1 Axes>"
      ]
     },
     "metadata": {
      "needs_background": "light"
     },
     "output_type": "display_data"
    }
   ],
   "source": [
    "plot_actual_vs_zipf(nltk_df)"
   ]
  },
  {
   "cell_type": "markdown",
   "id": "22a72368",
   "metadata": {},
   "source": [
    "## spaCy"
   ]
  },
  {
   "attachments": {},
   "cell_type": "markdown",
   "id": "968ea1aa",
   "metadata": {},
   "source": [
    "Αρχικά κάνουμε import τη βιβλιοθήκη που θα χρειαστούμε και μετατρέπουμε τα δεδομένα σε μορφή λίστας με tokens για να μπορούν να χρησιμοποιηθούν από τις βοηθητικές συναρτήσεις που έχουμε."
   ]
  },
  {
   "cell_type": "code",
   "execution_count": 20,
   "id": "d50ce9d3",
   "metadata": {},
   "outputs": [],
   "source": [
    "import spacy\n",
    "\n",
    "nlp = spacy.load(\"en_core_web_sm\")\n",
    "doc = nlp(textfile)\n",
    "\n",
    "tokenized_text_spacy = []\n",
    "\n",
    "for token in doc:\n",
    "    tokenized_text_spacy.append(token.text)"
   ]
  },
  {
   "attachments": {},
   "cell_type": "markdown",
   "id": "b77151fd",
   "metadata": {},
   "source": [
    "Καλείται η συνάρτηση για το πλήθος των συνολικών tokens."
   ]
  },
  {
   "cell_type": "code",
   "execution_count": 21,
   "id": "6b8ff2a0",
   "metadata": {},
   "outputs": [
    {
     "name": "stdout",
     "output_type": "stream",
     "text": [
      "The total number of tokens is: 95894\n"
     ]
    }
   ],
   "source": [
    "print('The total number of tokens is:', total_tokens(tokenized_text_spacy))"
   ]
  },
  {
   "attachments": {},
   "cell_type": "markdown",
   "id": "6e8c5255",
   "metadata": {},
   "source": [
    "Δημιουργείται το DataFrame του Pandas με την κλήση της σχετικής συνάρτησης."
   ]
  },
  {
   "cell_type": "code",
   "execution_count": 22,
   "id": "a795790d",
   "metadata": {},
   "outputs": [],
   "source": [
    "spacy_df = create_df(tokenized_text_spacy)"
   ]
  },
  {
   "attachments": {},
   "cell_type": "markdown",
   "id": "73a05a4c",
   "metadata": {},
   "source": [
    "Καλείται η συνάρτηση για τον αριθμό των διαφορετικών tokens."
   ]
  },
  {
   "cell_type": "code",
   "execution_count": 23,
   "id": "06fc76e9",
   "metadata": {},
   "outputs": [
    {
     "name": "stdout",
     "output_type": "stream",
     "text": [
      "The number of different tokens is: 11477\n"
     ]
    }
   ],
   "source": [
    "print('The number of different tokens is:', token_types(spacy_df))"
   ]
  },
  {
   "attachments": {},
   "cell_type": "markdown",
   "id": "7b12be61",
   "metadata": {},
   "source": [
    "Προσθέτονται οι στήλες probability και position*probability στο DataFrame και τυπώνονται οι 20 πρώτες λέξεις σε συχνότητα."
   ]
  },
  {
   "cell_type": "code",
   "execution_count": 24,
   "id": "671a2c5c",
   "metadata": {},
   "outputs": [
    {
     "name": "stdout",
     "output_type": "stream",
     "text": [
      "    word  counts  probability  position*probability\n",
      "1      ,    4823     0.050295              0.050295\n",
      "2    the    4047     0.042203              0.084406\n",
      "3      .    3761     0.039220              0.117661\n",
      "4     of    2313     0.024120              0.096482\n",
      "5     to    2162     0.022546              0.112729\n",
      "6      a    1868     0.019480              0.116879\n",
      "7     in    1576     0.016435              0.115044\n",
      "8    and    1496     0.015601              0.124804\n",
      "9     ''    1372     0.014307              0.128767\n",
      "10     -    1231     0.012837              0.128371\n",
      "11    's     863     0.009000              0.098995\n",
      "12   for     815     0.008499              0.101988\n",
      "13  that     807     0.008416              0.109402\n",
      "14   The     714     0.007446              0.104240\n",
      "15     $     702     0.007321              0.109809\n",
      "16    is     671     0.006997              0.111957\n",
      "17  said     627     0.006538              0.111154\n",
      "18    on     491     0.005120              0.092164\n",
      "19    it     476     0.004964              0.094312\n",
      "20     %     444     0.004630              0.092602\n"
     ]
    }
   ],
   "source": [
    "print_20_most_common(spacy_df)"
   ]
  },
  {
   "attachments": {},
   "cell_type": "markdown",
   "id": "30e3c367",
   "metadata": {},
   "source": [
    "Αποτελέσματα του tokenization της spacy στην ίδια πρόταση που εξετάστηκε και στην με το tokenization της nltk παραπάνω."
   ]
  },
  {
   "cell_type": "code",
   "execution_count": 25,
   "id": "351fac67",
   "metadata": {},
   "outputs": [
    {
     "name": "stdout",
     "output_type": "stream",
     "text": [
      "['The', 'National', 'Association', 'of', 'Manufacturers', 'settled', 'on', 'the', 'Hoosier', 'capital', 'of', 'Indianapolis', 'for', 'its', 'fall', 'board', 'meeting', '.']\n"
     ]
    }
   ],
   "source": [
    "sentence = 'The National Association of Manufacturers settled on the Hoosier capital of Indianapolis for its fall board meeting.'\n",
    "tokens_sentence = nlp(sentence)\n",
    "\n",
    "tokens = []\n",
    "\n",
    "for token in tokens_sentence:\n",
    "    tokens.append(token.text)\n",
    "print(tokens)"
   ]
  },
  {
   "attachments": {},
   "cell_type": "markdown",
   "id": "0de4f8a2",
   "metadata": {},
   "source": [
    "Τα αποτελέσματα τις σύγκρισης ανάμεσα στο ποσοστό των λέξεων που εμφανίζονται 1, 2 ή 3 φορές και το ποσοστό που θα περιμέναμε με βάση το νόμο του Zipf."
   ]
  },
  {
   "cell_type": "code",
   "execution_count": 26,
   "id": "fb5609f3",
   "metadata": {},
   "outputs": [
    {
     "name": "stdout",
     "output_type": "stream",
     "text": [
      "Percentage of words with 1 count: 50.07%\n",
      "Percentage of words with 1 count according to Zipf's law: 50.00%\n",
      "Percentage of words with 2 count: 15.60%\n",
      "Percentage of words with 2 count according to Zipf's law: 16.67%\n",
      "Percentage of words with 3 count: 7.70%\n",
      "Percentage of words with 3 count according to Zipf's law: 8.33%\n"
     ]
    }
   ],
   "source": [
    "real_vs_zipf(spacy_df)"
   ]
  },
  {
   "attachments": {},
   "cell_type": "markdown",
   "id": "cf177d7e",
   "metadata": {},
   "source": [
    "Καλείται η συνάρτηση για τον υπολογισμό του κατάλληλου Α."
   ]
  },
  {
   "cell_type": "code",
   "execution_count": 27,
   "id": "8ac29b59",
   "metadata": {},
   "outputs": [
    {
     "data": {
      "text/plain": [
       "0.1"
      ]
     },
     "execution_count": 27,
     "metadata": {},
     "output_type": "execute_result"
    }
   ],
   "source": [
    "best_a(spacy_df)"
   ]
  },
  {
   "attachments": {},
   "cell_type": "markdown",
   "id": "f138ec5c",
   "metadata": {},
   "source": [
    "Και βάσει του παραπάνω αποτελέσματος δημιουργούμε και το plot."
   ]
  },
  {
   "cell_type": "code",
   "execution_count": 28,
   "id": "cdf7c9de",
   "metadata": {},
   "outputs": [
    {
     "data": {
      "image/png": "[encoded data removed]",
      "text/plain": [
       "<Figure size 720x432 with 1 Axes>"
      ]
     },
     "metadata": {
      "needs_background": "light"
     },
     "output_type": "display_data"
    }
   ],
   "source": [
    "plot_actual_vs_zipf(spacy_df)"
   ]
  },
  {
   "attachments": {},
   "cell_type": "markdown",
   "id": "7d45ea60",
   "metadata": {},
   "source": [
    "## Bert Tokenizer"
   ]
  },
  {
   "attachments": {},
   "cell_type": "markdown",
   "id": "86a56755",
   "metadata": {},
   "source": [
    "Αρχικά κάνουμε import τη βιβλιοθήκη που θα χρειαστούμε και μετατρέπουμε τα δεδομένα σε μορφή λίστας με tokens για να μπορούν να χρησιμοποιηθούν από τις βοηθητικές συναρτήσεις που έχουμε."
   ]
  },
  {
   "cell_type": "code",
   "execution_count": 29,
   "id": "3207eb2e",
   "metadata": {},
   "outputs": [
    {
     "name": "stderr",
     "output_type": "stream",
     "text": [
      "None of PyTorch, TensorFlow >= 2.0, or Flax have been found. Models won't be available and only tokenizers, configuration and file/data utilities can be used.\n"
     ]
    }
   ],
   "source": [
    "from transformers import BertTokenizer\n",
    "\n",
    "tz = BertTokenizer.from_pretrained(\"bert-base-cased\")\n",
    "bert_tokenization = tz.tokenize(textfile)"
   ]
  },
  {
   "attachments": {},
   "cell_type": "markdown",
   "id": "2dc25d68",
   "metadata": {},
   "source": [
    "Καλείται η συνάρτηση για το πλήθος των συνολικών tokens."
   ]
  },
  {
   "cell_type": "code",
   "execution_count": 30,
   "id": "9b48a108",
   "metadata": {},
   "outputs": [
    {
     "name": "stdout",
     "output_type": "stream",
     "text": [
      "The total number of tokens is: 112325\n"
     ]
    }
   ],
   "source": [
    "print('The total number of tokens is:', total_tokens(bert_tokenization))"
   ]
  },
  {
   "attachments": {},
   "cell_type": "markdown",
   "id": "29c0fa8d",
   "metadata": {},
   "source": [
    "Δημιουργείται το DataFrame που θα χρησιμοποιηθεί για την ανάλυση των δεδομένων."
   ]
  },
  {
   "cell_type": "code",
   "execution_count": 31,
   "id": "586b17b7",
   "metadata": {},
   "outputs": [],
   "source": [
    "bert_df = create_df(bert_tokenization)"
   ]
  },
  {
   "attachments": {},
   "cell_type": "markdown",
   "id": "dae7f07f",
   "metadata": {},
   "source": [
    "Καλείται η συνάρτηση για τον υπολογισμό των διαφορετικών tokens."
   ]
  },
  {
   "cell_type": "code",
   "execution_count": 32,
   "id": "22582038",
   "metadata": {},
   "outputs": [
    {
     "name": "stdout",
     "output_type": "stream",
     "text": [
      "The number of different tokens is: 10266\n"
     ]
    }
   ],
   "source": [
    "print('The number of different tokens is:', token_types(bert_df))"
   ]
  },
  {
   "attachments": {},
   "cell_type": "markdown",
   "id": "e7d50bc7",
   "metadata": {},
   "source": [
    "Προσθέτονται οι στήλες probability και position*probability στο DataFrame και τυπώνονται οι 20 πρώτες λέξεις σε συχνότητα."
   ]
  },
  {
   "cell_type": "code",
   "execution_count": 33,
   "metadata": {},
   "outputs": [
    {
     "name": "stdout",
     "output_type": "stream",
     "text": [
      "    word  counts  probability  position*probability\n",
      "1      .    6363     0.056648              0.056648\n",
      "2      ,    5026     0.044745              0.089490\n",
      "3      '    4117     0.036653              0.109958\n",
      "4    the    4049     0.036047              0.144189\n",
      "5     of    2314     0.020601              0.103005\n",
      "6     to    2167     0.019292              0.115753\n",
      "7      a    1927     0.017156              0.120089\n",
      "8      -    1733     0.015428              0.123428\n",
      "9     in    1600     0.014244              0.128199\n",
      "10   and    1498     0.013336              0.133363\n",
      "11     s     932     0.008297              0.091271\n",
      "12   for     815     0.007256              0.087069\n",
      "13  that     807     0.007185              0.093399\n",
      "14   The     715     0.006365              0.089116\n",
      "15     $     708     0.006303              0.094547\n",
      "16   ##s     686     0.006107              0.097716\n",
      "17    is     628     0.005591              0.095046\n",
      "18  said     627     0.005582              0.100476\n",
      "19    on     492     0.004380              0.083223\n",
      "20    it     476     0.004238              0.084754\n"
     ]
    }
   ],
   "source": [
    "print_20_most_common(bert_df)\n"
   ]
  },
  {
   "attachments": {},
   "cell_type": "markdown",
   "id": "bfad4a68",
   "metadata": {},
   "source": [
    "Αποτελέσματα του tokenization από το BertTokenizer στην ίδια πρόταση που εξετάστηκε και στην με το tokenization της nltk παραπάνω."
   ]
  },
  {
   "cell_type": "code",
   "execution_count": 34,
   "id": "47e7834d",
   "metadata": {},
   "outputs": [
    {
     "name": "stdout",
     "output_type": "stream",
     "text": [
      "['The', 'National', 'Association', 'of', 'Man', '##uf', '##act', '##urers', 'settled', 'on', 'the', 'Ho', '##os', '##ier', 'capital', 'of', 'Indianapolis', 'for', 'its', 'fall', 'board', 'meeting', '.']\n"
     ]
    }
   ],
   "source": [
    "sentence = 'The National Association of Manufacturers settled on the Hoosier capital of Indianapolis for its fall board meeting.'\n",
    "tokens_sentence = tz.tokenize(sentence)\n",
    "print(tokens_sentence)"
   ]
  },
  {
   "attachments": {},
   "cell_type": "markdown",
   "id": "2981c71a",
   "metadata": {},
   "source": [
    "Τα αποτελέσματα τις σύγκρισης ανάμεσα στο ποσοστό των λέξεων που εμφανίζονται 1, 2 ή 3 φορές και το ποσοστό που θα περιμέναμε με βάση το νόμο του Zipf."
   ]
  },
  {
   "cell_type": "code",
   "execution_count": 35,
   "id": "8308833a",
   "metadata": {},
   "outputs": [
    {
     "name": "stdout",
     "output_type": "stream",
     "text": [
      "Percentage of words with 1 count: 37.51%\n",
      "Percentage of words with 1 count according to Zipf's law: 50.00%\n",
      "Percentage of words with 2 count: 16.79%\n",
      "Percentage of words with 2 count according to Zipf's law: 16.67%\n",
      "Percentage of words with 3 count: 9.24%\n",
      "Percentage of words with 3 count according to Zipf's law: 8.33%\n"
     ]
    }
   ],
   "source": [
    "real_vs_zipf(bert_df)"
   ]
  },
  {
   "attachments": {},
   "cell_type": "markdown",
   "id": "d365b9ec",
   "metadata": {},
   "source": [
    "Υπολογισμός του κατάλληλου Α χρησιμοποιώντας τη σχετική συνάρτηση."
   ]
  },
  {
   "cell_type": "code",
   "execution_count": 36,
   "id": "3ba3e4e8",
   "metadata": {},
   "outputs": [
    {
     "data": {
      "text/plain": [
       "0.1"
      ]
     },
     "execution_count": 36,
     "metadata": {},
     "output_type": "execute_result"
    }
   ],
   "source": [
    "best_a(bert_df)"
   ]
  },
  {
   "attachments": {},
   "cell_type": "markdown",
   "id": "db47025a",
   "metadata": {},
   "source": [
    "Και τέλος, απεικόνιση των αποτελεσμάτων σε ένα plot."
   ]
  },
  {
   "cell_type": "code",
   "execution_count": 37,
   "id": "88d3643a",
   "metadata": {},
   "outputs": [
    {
     "data": {
      "image/png": "[encoded data removed]",
      "text/plain": [
       "<Figure size 720x432 with 1 Axes>"
      ]
     },
     "metadata": {
      "needs_background": "light"
     },
     "output_type": "display_data"
    }
   ],
   "source": [
    "plot_actual_vs_zipf(bert_df)"
   ]
  }
 ],
 "metadata": {
  "kernelspec": {
   "display_name": "Python 3 (ipykernel)",
   "language": "python",
   "name": "python3"
  },
  "language_info": {
   "codemirror_mode": {
    "name": "ipython",
    "version": 3
   },
   "file_extension": ".py",
   "mimetype": "text/x-python",
   "name": "python",
   "nbconvert_exporter": "python",
   "pygments_lexer": "ipython3",
   "version": "3.9.12"
  }
 },
 "nbformat": 4,
 "nbformat_minor": 5
}
